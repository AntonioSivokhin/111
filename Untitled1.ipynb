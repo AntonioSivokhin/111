{
  "nbformat": 4,
  "nbformat_minor": 0,
  "metadata": {
    "colab": {
      "provenance": [],
      "authorship_tag": "ABX9TyP5s7tjIhAwszXLo23qkrt6",
      "include_colab_link": true
    },
    "kernelspec": {
      "name": "python3",
      "display_name": "Python 3"
    },
    "language_info": {
      "name": "python"
    }
  },
  "cells": [
    {
      "cell_type": "markdown",
      "metadata": {
        "id": "view-in-github",
        "colab_type": "text"
      },
      "source": [
        "<a href=\"https://colab.research.google.com/github/AntonioSivokhin/111/blob/main/Untitled1.ipynb\" target=\"_parent\"><img src=\"https://colab.research.google.com/assets/colab-badge.svg\" alt=\"Open In Colab\"/></a>"
      ]
    },
    {
      "cell_type": "code",
      "execution_count": null,
      "metadata": {
        "id": "ULjHaPaopL3S"
      },
      "outputs": [],
      "source": [
        "import numpy as np\n",
        "\n",
        "n = int(input())\n",
        "a = [[int(j) for j in input().split()] for i in range(n)]\n",
        "w, v = np.linalg.eig(a)\n",
        "print(v)"
      ]
    }
  ]
}